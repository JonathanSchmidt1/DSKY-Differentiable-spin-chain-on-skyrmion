{
 "cells": [
  {
   "cell_type": "code",
   "execution_count": 1,
   "metadata": {},
   "outputs": [],
   "source": [
    "from torch import tensor, stack, float64, float32, profiler\n",
    "from torch import device\n",
    "import torch\n",
    "import numpy as np\n",
    "from hamiltonian import Sky_phi\n",
    "from hamiltonian import ham_total\n",
    "from xitorch import linalg\n",
    "from test_sparse_eigen import CsrLinOp\n",
    "from energy_gap import energy_gap\n",
    "from adaptive.learner.learnerND import curvature_loss_function\n",
    "from adaptive import notebook_extension, Runner, BlockingRunner, LearnerND, Learner2D\n",
    "from tools.device_setter import multi_GPU_executor"
   ]
  },
  {
   "cell_type": "code",
   "execution_count": null,
   "metadata": {},
   "outputs": [],
   "source": [
    "def main():\n",
    "    try:\n",
    "        torch.multiprocessing.set_start_method('spawn')\n",
    "    except:\n",
    "        pass\n",
    "\n",
    "    print(\"Learner initialization\")\n",
    "    loss_function = curvature_loss_function()\n",
    "    learner = LearnerND(energy_gap, bounds = [(0, 1), (-1, 1), (0.2, 1.25), (0.5, 3)], loss_per_simplex = loss_function)\n",
    "    #learner = Learner2D(energy_gap, bounds = [(0, 1), (-1, 1)])\n",
    "    print(\"Runner initialization\")\n",
    "\n",
    "    tasks_per_gpu = 1\n",
    "    gpus = range(13,15)\n",
    "    executor = multi_GPU_executor(tasks_per_gpu = tasks_per_gpu, gpus = gpus)\n",
    "\n",
    "    runner = Runner(learner, executor = executor, shutdown_executor = True, retries = 2, goal = lambda l: l.npoints > 0)#l.loss() < 0.000001)\n",
    "    if type(runner) != BlockingRunner:\n",
    "        runner.live_info(update_interval = 1)\n",
    "\n",
    "    return runner, learner\n",
    "\n",
    "runner, learner = main()"
   ]
  },
  {
   "cell_type": "code",
   "execution_count": null,
   "metadata": {},
   "outputs": [],
   "source": []
  }
 ],
 "metadata": {
  "interpreter": {
   "hash": "e659e7c694cbeeba57f01e6625e3b62cfc5c6f2d39aebd9b609dfd7e3de59a00"
  },
  "kernelspec": {
   "display_name": "Python 3.9.7 ('ml_skyrmion11')",
   "language": "python",
   "name": "python3"
  },
  "language_info": {
   "codemirror_mode": {
    "name": "ipython",
    "version": 3
   },
   "file_extension": ".py",
   "mimetype": "text/x-python",
   "name": "python",
   "nbconvert_exporter": "python",
   "pygments_lexer": "ipython3",
   "version": "3.9.7"
  },
  "orig_nbformat": 4
 },
 "nbformat": 4,
 "nbformat_minor": 2
}
