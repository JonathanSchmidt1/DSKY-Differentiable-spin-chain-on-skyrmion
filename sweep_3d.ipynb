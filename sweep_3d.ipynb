{
 "cells": [
  {
   "cell_type": "code",
   "execution_count": null,
   "metadata": {},
   "outputs": [],
   "source": [
    "import torch\n",
    "from energy_gap import energy_gap_3d\n",
    "from adaptive.learner.learnerND import curvature_loss_function\n",
    "from adaptive import notebook_extension, Runner, BlockingRunner, LearnerND\n",
    "from tools.device_setter import multi_GPU_executor\n",
    "notebook_extension()"
   ]
  },
  {
   "cell_type": "code",
   "execution_count": null,
   "metadata": {},
   "outputs": [],
   "source": [
    "def main():\n",
    "    try:\n",
    "        torch.multiprocessing.set_start_method('spawn')\n",
    "    except:\n",
    "        pass\n",
    "\n",
    "    print(\"Learner initialization\")\n",
    "    loss_function = curvature_loss_function()\n",
    "    learner = LearnerND(energy_gap_3d, bounds = [(0, 1), (-1, 1), (0.2, 1.25)], loss_per_simplex = loss_function)\n",
    "    #learner.load(\"/home/mamelz/DSKY/DSKY-Differentiable-spin-chain-on-skyrmion/data/sweep/saving.pickle\")\n",
    "    print(\"Runner initialization\")\n",
    "\n",
    "    tasks_per_gpu = 1\n",
    "    gpus = range(1,16)\n",
    "    executor = multi_GPU_executor(tasks_per_gpu = tasks_per_gpu, gpus = gpus)\n",
    "\n",
    "    runner = Runner(learner, executor = executor, shutdown_executor = True, retries = 1000, goal = lambda l: l.loss() < 1e-12)\n",
    "    runner.start_periodic_saving(save_kwargs=dict(fname = \"data/sweep/sweep3d/alpha1_0.pickle\"), interval = 900)\n",
    "    if type(runner) != BlockingRunner:\n",
    "        runner.live_info(update_interval = 1)\n",
    "\n",
    "    return runner, learner\n",
    "\n",
    "runner, learner = main()"
   ]
  }
 ],
 "metadata": {
  "language_info": {
   "name": "python"
  },
  "orig_nbformat": 4
 },
 "nbformat": 4,
 "nbformat_minor": 2
}
